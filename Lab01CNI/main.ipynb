{
 "cells": [
  {
   "cell_type": "code",
   "execution_count": 1,
   "id": "initial_id",
   "metadata": {
    "collapsed": true,
    "ExecuteTime": {
     "end_time": "2024-10-04T11:55:37.845875Z",
     "start_time": "2024-10-04T11:55:35.205202Z"
    }
   },
   "outputs": [],
   "source": [
    "import numpy as np\n",
    "from scipy import linalg\n",
    "%matplotlib inline\n",
    "import matplotlib.pyplot as plt"
   ]
  },
  {
   "cell_type": "code",
   "outputs": [],
   "source": [
    "n = 6\n",
    "A = np.random.randn(n,n)\n",
    "\n",
    "for k in range(0,n-1):\n",
    "    for i in range(k+1,n):\n",
    "        # Calculeaza multiplicatorii Gaussieni\n",
    "        A[i][k] = -A[i][k]/A[k][k]   # Se suprascriu in triunghiul inferior\n",
    "        # Aplica multiplicatorii\n",
    "        for j in range(k+1,n):\n",
    "            A[i][j] = A[i][j] + A[k][j]*A[i][k]"
   ],
   "metadata": {
    "collapsed": false,
    "ExecuteTime": {
     "end_time": "2024-10-04T11:59:44.672263Z",
     "start_time": "2024-10-04T11:59:44.639163Z"
    }
   },
   "id": "3b058453787878d6",
   "execution_count": 2
  },
  {
   "cell_type": "code",
   "outputs": [
    {
     "name": "stdout",
     "output_type": "stream",
     "text": [
      "[[-1.01830942 -0.21720869 -0.32028484  0.78248093 -0.19890411  0.85516891]\n",
      " [ 0.          0.45017778 -0.46836847  1.38464015 -0.27216334  0.1875674 ]\n",
      " [ 0.          0.         -3.05410527 -0.39865709 -0.93684222 -0.42180086]\n",
      " [ 0.          0.          0.          0.6553137   0.45383387  1.71934278]\n",
      " [ 0.          0.          0.          0.         -2.0576146  -6.27906723]\n",
      " [ 0.          0.          0.          0.          0.          4.96257011]]\n"
     ]
    }
   ],
   "source": [
    "A_gauss = np.triu(A)\n",
    "print(A_gauss)"
   ],
   "metadata": {
    "collapsed": false,
    "ExecuteTime": {
     "end_time": "2024-10-04T12:00:22.143296Z",
     "start_time": "2024-10-04T12:00:22.137766Z"
    }
   },
   "id": "155df31386133752",
   "execution_count": 3
  },
  {
   "cell_type": "code",
   "outputs": [
    {
     "name": "stdout",
     "output_type": "stream",
     "text": [
      "[-1.44664813 -1.71363402 -0.28126658  0.08180519  1.23119381 -0.2335044 ]\n"
     ]
    }
   ],
   "source": [
    "def prod(A,b):\n",
    "    n = len(b)\n",
    "    x = np.zeros(n)\n",
    "    for i in range(n-1,-1,-1):\n",
    "        x[i] = (b[i] - np.dot(A[i][i+1:],x[i+1:]))/A[i][i]\n",
    "    return x\n",
    "\n",
    "b = np.random.randn(n)\n",
    "x = prod(A_gauss,b)\n",
    "print(x)"
   ],
   "metadata": {
    "collapsed": false,
    "ExecuteTime": {
     "end_time": "2024-10-04T12:04:03.653056Z",
     "start_time": "2024-10-04T12:04:03.646838Z"
    }
   },
   "id": "1e9e17beb9055ebe",
   "execution_count": 4
  },
  {
   "cell_type": "code",
   "outputs": [],
   "source": [],
   "metadata": {
    "collapsed": false
   },
   "id": "d7de2ab7a4859d91"
  },
  {
   "cell_type": "code",
   "outputs": [
    {
     "name": "stdout",
     "output_type": "stream",
     "text": [
      "[[ 2  4 -2]\n",
      " [ 0  1  1]\n",
      " [ 0  0  4]]\n",
      "[2 4 8]\n"
     ]
    }
   ],
   "source": [
    "A = [[2,4,-2], [4, 9, -3],[-2, -3, 7]]\n",
    "b = [2,8,10]\n",
    "A = np.array(A)\n",
    "n = 3\n",
    "for k in range(0,n-1):\n",
    "    for i in range(k+1,n):\n",
    "        # Calculeaza multiplicatorii Gaussieni\n",
    "        A[i][k] = -A[i][k]/A[k][k]   # Se suprascriu in triunghiul inferior\n",
    "        # Aplica multiplicatorii\n",
    "        for j in range(k+1,n):\n",
    "            A[i][j] = A[i][j] + A[k][j]*A[i][k]\n",
    "\n",
    "b = np.array(b)  \n",
    "for k in range(0,n-1):\n",
    "    for i in range(k+1,n):\n",
    "        b[i] = b[i] + A[i][k]*b[k]\n",
    "\n",
    "\n",
    "A = np.triu(A)\n",
    "print(A)\n",
    "print(b)"
   ],
   "metadata": {
    "collapsed": false,
    "ExecuteTime": {
     "end_time": "2024-10-04T12:19:43.708701Z",
     "start_time": "2024-10-04T12:19:43.700977Z"
    }
   },
   "id": "6ca639bb0e8d6c69",
   "execution_count": 9
  },
  {
   "cell_type": "code",
   "outputs": [
    {
     "name": "stdout",
     "output_type": "stream",
     "text": [
      "[-1.  2.  2.]\n"
     ]
    }
   ],
   "source": [
    "x = prod(A,b)\n",
    "print(x)"
   ],
   "metadata": {
    "collapsed": false,
    "ExecuteTime": {
     "end_time": "2024-10-04T12:19:50.366507Z",
     "start_time": "2024-10-04T12:19:50.361232Z"
    }
   },
   "id": "71c119dabfcc6bfd",
   "execution_count": 10
  }
 ],
 "metadata": {
  "kernelspec": {
   "display_name": "Python 3",
   "language": "python",
   "name": "python3"
  },
  "language_info": {
   "codemirror_mode": {
    "name": "ipython",
    "version": 2
   },
   "file_extension": ".py",
   "mimetype": "text/x-python",
   "name": "python",
   "nbconvert_exporter": "python",
   "pygments_lexer": "ipython2",
   "version": "2.7.6"
  }
 },
 "nbformat": 4,
 "nbformat_minor": 5
}
